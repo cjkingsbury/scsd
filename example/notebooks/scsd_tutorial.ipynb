{
 "cells": [
  {
   "cell_type": "markdown",
   "metadata": {},
   "source": [
    "The scsd (symmetry-coordinate structural decomposition) program is a method of describing the concerted distortions of molecules in crystal structures using the idealised point group symmetry. This can be used for a number of purposes - including structure description, comparison and generation. This notebook will run through how to analyse individual structures, use collections of structures to analyse molecular charge, and generate conformations of a common unit for use in landscape generator.\n",
    "Firstly, we'll import the tools and run a simple analysis of xanthene, from the Hicks group at ANU. (CSD: BEVRON)"
   ]
  },
  {
   "cell_type": "code",
   "execution_count": null,
   "metadata": {},
   "outputs": [],
   "source": [
    "# importing the module\n",
    "import scsd\n",
    "import os\n",
    "\n",
    "# imports the data from a file\n",
    "bevron = scsd.import_pdb('./data/bevron.pdb')\n",
    "\n",
    "# creates the object\n",
    "scsdm = scsd.scsd_matrix(bevron, model = 'xanthene')\n",
    "\n",
    "# performs the calculation\n",
    "scsdm.calc_scsd(by_graph=True, bhopping=True)\n",
    "\n",
    "# reports the simple version of the results\n",
    "print(scsdm.simple_scsd())\n"
   ]
  },
  {
   "cell_type": "markdown",
   "metadata": {},
   "source": [
    "this shows us how the simplest version of this analysis might be initialised. From this point, one may look at 1. the conformation, 2. the resulting symmetry and 3. similar compounds that have been described in the literature. \n",
    "The conformation shown in Figure 1 has a pronounced bifold character - \"B<sub>2</sub>\""
   ]
  },
  {
   "cell_type": "code",
   "execution_count": null,
   "metadata": {},
   "outputs": [],
   "source": [
    "# displaying the figure\n",
    "fig1 = scsdm.scsd_plotly(as_type='fig')\n",
    "fig1.show()\n",
    "\n",
    "%matplotlib widget\n",
    "fig2 = scsdm.mondrian(as_type='fig')\n",
    "fig2.show()\n",
    "\n",
    "from IPython.display import display, HTML\n",
    "display(HTML(scsdm.compare_table().partition('<button')[0]))"
   ]
  },
  {
   "cell_type": "markdown",
   "metadata": {},
   "source": [
    "so, for the above material we might say that the conformation is 'folded', with a B<sub>2</sub> value of 3.84 Angstroms of sum atom movement, and a pinched O-side induced by the metal centre chelate.\n",
    "The apparent symmetry is <i>C<sub>s</sub></i>. This diaza-xanthene exhibits a conformation similar to those of the common XANTPHOS ligand (POFQIN, NUCMAC), and less than the maximum observed distortion of this type (NIDYAD, [doi:10.1038/s41586-018-0037-y](http://dx.doi.org/10.1038/s41586-018-0037-y)). \n",
    "\n",
    "Were we to desire more in-depth analysis, we can pull up the scsd_collection object for xanthene. We'll recalculate the data we need from the already minimised and assigned coordinates, allowing use of 'bypass' to speed things up."
   ]
  },
  {
   "cell_type": "code",
   "execution_count": null,
   "metadata": {},
   "outputs": [],
   "source": [
    "xan = scsd.scsd_collection('xanthene')\n",
    "\n",
    "xan.plot_pca('B2')\n",
    "xan.gen_simple_df(bypass=True)\n",
    "xan.gen_complex_df()\n",
    "xan.pca_kdeplot('B2')"
   ]
  },
  {
   "cell_type": "markdown",
   "metadata": {},
   "source": [
    "from this we can see that the measured conformations are beween the 'flat' main cluster at zero, and the usual bent cluster around 5 Angstroms. Were we to want to see those distorted by twisting instead, we can pull up the \"A2\" figure, which shows only smaller dostortions usually observed. One can also see these data at www.kingsbury.id.au/scsd_model_ext/xanthene\n",
    "\n",
    "Now we may have a structure which has no equivalent model. Here's where the model creation routines might come in - we'll make one for aza-bodipy below. The BODIPY itself has an interesting variability in how it coordinates the central boron depending on the presence of the 1,3,5,7-tetramethyl motif. We'll use HUYBAF as the model.\n",
    "1. Download the data from the CCDC CSD or other source\n",
    "2. Delete the atoms outside of the aza-bodipy core. This can be accomplished with a text editor, using the mercury \"Edit Structure\" tool (free), or in CrystalMaker (paid)\n",
    "3. Save this structure as a .pdb file\n",
    "I've done the above and huybaf can be loaded from the data folder"
   ]
  },
  {
   "cell_type": "code",
   "execution_count": null,
   "metadata": {},
   "outputs": [],
   "source": [
    "huybaf = scsd.yield_model(scsd.import_pdb('./data/huybaf.pdb'), 'C2v', bhopping = False)\n",
    "azabodipy = scsd.scsd_model('azabodipy', huybaf, 'C2v')\n",
    "azabodipy.plotly_plot_model()"
   ]
  },
  {
   "cell_type": "markdown",
   "metadata": {},
   "source": [
    "This should resemble an idealised azaBODIPY molecule. It it looks odd, rerun with bhopping = True.\n",
    "This can also be accomplished using www.kingsbury.id.au/scsd_new_model with the above 'huybaf.pdb' and copying the data at the bottom of that page. This will have the advantage of making the azabodipy model available on the webserver.\n",
    "Now, our new molecule that we might be interested in is a set that deviate from a plane - we can presume that the "
   ]
  },
  {
   "cell_type": "markdown",
   "metadata": {},
   "source": [
    "We're going to look at how one might analyse an entire collection of structures. This is enabled strongly by using the csd-python-api, but is also possible without, only requiring the crystla structure data is provided in a format compatible with scsd_collection object.\n",
    "The example we'll use is \"Robson's Ligand\" - before Prof. Richard Robson was known for establishing the principles of net-based design of coordination polymers (AKA MOFs), these ligands were an ongoing fascination for novel catalytic and electronic behaviour provided by coordination of two metals simultaneously. See https://doi.org/10.1016/0020-1650(72)80078-3 \n",
    "The model will be provided by running PISPCO through the interface at kingsbury.id.au/scsd_new_model and thereafter deposited at https://www.kingsbury.id.au/scsd_model/robsons-ligand\n",
    "The filtered motif \".sd\" is able to be prepared quite easily using motif search in Mercury (csd-materials / search / crystal packing feature), but can also be prepared from data in the COD or PDB using motif searching. I've selected only those examples that coordinate two metal centres (1021 examples)"
   ]
  },
  {
   "cell_type": "code",
   "execution_count": null,
   "metadata": {},
   "outputs": [],
   "source": [
    "import numpy as np\n",
    "import sys, os\n",
    "sys.path.append(os.path.join(os.getcwd(), \"..\",\"..\"))\n",
    "from scsd import scsd\n",
    "#pispco.pdb robsons-ligand 20240510\n",
    "robsons_ligand = scsd.scsd_model('robsons-ligand', np.array([['-0.0', '-0.0', '0.8074', 'C'], ['1.216', '-0.0', '0.088', 'C'], ['1.1743', '0.0', '-1.3227', 'C'], ['0.0', '0.0', '-2.0387', 'C'], ['-1.1743', '0.0', '-1.3227', 'C'], ['-1.216', '-0.0', '0.088', 'C'], ['0.0', '0.0', '-3.5531', 'C'], ['2.5512', '-0.0', '0.6603', 'C'], ['-2.5512', '-0.0', '0.6603', 'C'], ['2.8782', '-0.0', '1.8978', 'N'], ['-2.8782', '-0.0', '1.8978', 'N'], ['-0.0', '-0.0', '2.1377', 'O']]), 'C2v' , maxdist = 1.75, mondrian_limits = [-1.0, -1.0])\n",
    "coll = scsd.scsd_collection(robsons_ligand)\n",
    "df = coll.sd_file_to_simple_df(\"./data/robsons.sd\", by_graph = True, verbose = True)"
   ]
  },
  {
   "cell_type": "markdown",
   "metadata": {},
   "source": [
    "This should take about 3-4 minutes to complete, and may have residual errors - it is advised to use \"bhop = True\" for data that will be published, and scrutinising every errant data point.\n",
    "Nonetheless, we can inspect how these deformations occur, with special notice to iso"
   ]
  },
  {
   "cell_type": "code",
   "execution_count": null,
   "metadata": {},
   "outputs": [],
   "source": [
    "coll.gen_pca(2)\n",
    "coll.gen_complex_df()\n",
    "coll.plot_pca(scale = 3.0)\n",
    "coll.pca_kdeplot(\"A1\")"
   ]
  }
 ],
 "metadata": {
  "kernelspec": {
   "display_name": "base",
   "language": "python",
   "name": "python3"
  },
  "language_info": {
   "codemirror_mode": {
    "name": "ipython",
    "version": 3
   },
   "file_extension": ".py",
   "mimetype": "text/x-python",
   "name": "python",
   "nbconvert_exporter": "python",
   "pygments_lexer": "ipython3",
   "version": "3.9.16"
  }
 },
 "nbformat": 4,
 "nbformat_minor": 2
}
